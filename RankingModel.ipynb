{
 "cells": [
  {
   "attachments": {},
   "cell_type": "markdown",
   "metadata": {},
   "source": [
    "# 支付方式重要性排名模型"
   ]
  },
  {
   "attachments": {},
   "cell_type": "markdown",
   "metadata": {},
   "source": [
    "### Import libraries"
   ]
  },
  {
   "cell_type": "code",
   "execution_count": 2,
   "metadata": {},
   "outputs": [
    {
     "name": "stderr",
     "output_type": "stream",
     "text": [
      "c:\\Users\\eeb02\\.virtualenvs\\final-fG7mChhK\\lib\\site-packages\\tqdm\\auto.py:21: TqdmWarning: IProgress not found. Please update jupyter and ipywidgets. See https://ipywidgets.readthedocs.io/en/stable/user_install.html\n",
      "  from .autonotebook import tqdm as notebook_tqdm\n"
     ]
    }
   ],
   "source": [
    "import psycopg2\n",
    "from psycopg2 import OperationalError\n",
    "import numpy as np\n",
    "from datetime import datetime, date, timedelta\n",
    "from matplotlib import pyplot as plt\n",
    "import pandas as pd\n",
    "from tqdm.auto import tqdm, trange\n",
    "from sklearn.metrics.pairwise import cosine_similarity\n",
    "from mpl_toolkits.mplot3d import Axes3D\n",
    "from sklearn.cluster import KMeans\n",
    "from sklearn.preprocessing import MinMaxScaler"
   ]
  },
  {
   "attachments": {},
   "cell_type": "markdown",
   "metadata": {},
   "source": [
    "### SQL 連線"
   ]
  },
  {
   "cell_type": "code",
   "execution_count": 4,
   "metadata": {},
   "outputs": [],
   "source": [
    "def sql_conn():\n",
    "    conn = psycopg2.connect(\n",
    "        host = '140.118.207.22',\n",
    "        port = '5432',\n",
    "        database = '91app',\n",
    "        user = 'guest',\n",
    "        password = '1',\n",
    "    )\n",
    "\n",
    "    return conn, conn.cursor()"
   ]
  },
  {
   "attachments": {},
   "cell_type": "markdown",
   "metadata": {},
   "source": [
    "## 1. 篩選出高貢獻的前20%會員\n"
   ]
  },
  {
   "attachments": {},
   "cell_type": "markdown",
   "metadata": {},
   "source": [
    "- SQL functions"
   ]
  },
  {
   "cell_type": "code",
   "execution_count": null,
   "metadata": {},
   "outputs": [],
   "source": [
    "def create_conn():\n",
    "    conn = None\n",
    "    try:\n",
    "        conn = psycopg2.connect(\n",
    "            host=\"140.118.207.22\",\n",
    "            user=\"guest\",\n",
    "            password=\"1\",\n",
    "            database=\"91app\",\n",
    "            port=\"5432\",\n",
    "        )\n",
    "        print(\"Connection to PostgreSQL DB successful\")\n",
    "    except OperationalError as e:\n",
    "        print(f\"The error '{e}' occurred\")\n",
    "    return conn\n",
    "\n",
    "def execute_query(connection, query):\n",
    "    cursor = connection.cursor()\n",
    "    try:\n",
    "        cursor.execute(query)\n",
    "        print(\"Query executed successfully\")\n",
    "        return cursor.fetchall()\n",
    "    except OperationalError as e:\n",
    "        print(f\"The error '{e}' occurred\")       \n"
   ]
  },
  {
   "cell_type": "code",
   "execution_count": null,
   "metadata": {},
   "outputs": [],
   "source": [
    "connection = create_conn()"
   ]
  },
  {
   "attachments": {},
   "cell_type": "markdown",
   "metadata": {},
   "source": [
    "- 讀取2021-01-01~2022-12-31的訂單資訊"
   ]
  },
  {
   "cell_type": "code",
   "execution_count": null,
   "metadata": {},
   "outputs": [],
   "source": [
    "select_query = \"\"\"\n",
    "SELECT * \n",
    "FROM \"Order\" \n",
    "WHERE \"OrderDateTime\" >= '2021-01-01' AND \"OrderDateTime\" <= '2022-12-31'\n",
    "\"\"\"\n",
    "\n",
    "try:\n",
    "    df = pd.read_sql_query(select_query, connection)\n",
    "except Exception as e:\n",
    "    print(f\"The error '{e}' occurred\")"
   ]
  },
  {
   "attachments": {},
   "cell_type": "markdown",
   "metadata": {},
   "source": [
    "- 去除包含StatusDef = Return的交易訂單\n",
    "- 轉換OrderDateTime 成一般datetime格式，同時轉為UTC+8"
   ]
  },
  {
   "cell_type": "code",
   "execution_count": null,
   "metadata": {},
   "outputs": [],
   "source": [
    "fail_return_codes = df[df['StatusDef'].isin(['Return'])]['TradesGroupCode'].unique()\n",
    "data = df[(df['StatusDef'] == 'Finish') & (~df['TradesGroupCode'].isin(fail_return_codes))]\n",
    "data = data[['ShopMemberId', 'OrderDateTime', 'TotalSalesAmount', 'StatusDef','TotalPrice','TotalPromotionDiscount','TotalCouponDiscount','TotalLoyaltyPointDiscount']]\n",
    "\n",
    "\n",
    "data['OrderDateTime'] = data['OrderDateTime'] + timedelta(hours=8)\n",
    "data['OrderDateTime'] = data['OrderDateTime'].dt.tz_convert(None)\n",
    "\n",
    "print(data.info())"
   ]
  },
  {
   "attachments": {},
   "cell_type": "markdown",
   "metadata": {},
   "source": [
    "### 1-1. 把資料切成8等分，每次區間為3個月"
   ]
  },
  {
   "attachments": {},
   "cell_type": "markdown",
   "metadata": {},
   "source": [
    "- 抓出分割日期"
   ]
  },
  {
   "cell_type": "code",
   "execution_count": null,
   "metadata": {},
   "outputs": [
    {
     "name": "stdout",
     "output_type": "stream",
     "text": [
      "[Timestamp('2021-01-01 00:00:00'), Timestamp('2021-04-01 00:00:00'), Timestamp('2021-07-01 00:00:00'), Timestamp('2021-10-01 00:00:00'), Timestamp('2022-01-01 00:00:00'), Timestamp('2022-04-01 00:00:00'), Timestamp('2022-07-01 00:00:00'), Timestamp('2022-10-01 00:00:00'), Timestamp('2023-01-01 00:00:00')]\n"
     ]
    }
   ],
   "source": [
    "bin_dates = pd.date_range(start='2020-12-31', end='2022-12-31', freq='3M')\n",
    "bin_dates = bin_dates + timedelta(days=1)\n",
    "\n",
    "bin_dates = bin_dates.tolist()\n",
    "print(bin_dates)"
   ]
  },
  {
   "attachments": {},
   "cell_type": "markdown",
   "metadata": {},
   "source": [
    "- 把data切成8分並存入df_intervals list"
   ]
  },
  {
   "cell_type": "code",
   "execution_count": null,
   "metadata": {},
   "outputs": [],
   "source": [
    "df_intervals = []\n",
    "\n",
    "for i in range(len(bin_dates)-1):\n",
    "    start = bin_dates[i]\n",
    "    end = bin_dates[i+1]\n",
    "    df_intervals.append(data[(data['OrderDateTime'] >= start) & (data['OrderDateTime'] < end)])"
   ]
  },
  {
   "attachments": {},
   "cell_type": "markdown",
   "metadata": {},
   "source": [
    "- 建立 processed_intervals list，為8個區間的R(Recency)、F(Frequency)、M(Monetary)"
   ]
  },
  {
   "cell_type": "code",
   "execution_count": null,
   "metadata": {},
   "outputs": [
    {
     "name": "stdout",
     "output_type": "stream",
     "text": [
      "                                       ShopMemberId  Monetary  Frequency   \n",
      "0      +0a6VFd3n3UA2rLwwT17sIwd9NrBPNtEzywulYcXR9I=    4024.0          1  \\\n",
      "1      +458PoYquuxvkXIfUgKUPg0IZbntFRTlCkPVuP7mEd0=    5130.0          2   \n",
      "2      +458PoYquuxvkXIfUgKUPg5RRQHSJCkTH1hAd+T8lD0=    2080.0          1   \n",
      "3      +458PoYquuxvkXIfUgKUPg7HG5qv58R7Yi1lE1Xgbcw=    8000.0          1   \n",
      "4      +458PoYquuxvkXIfUgKUPgaG+H3C4nBZGB0VaIhL+1g=    2520.0          1   \n",
      "...                                             ...       ...        ...   \n",
      "59335  zr/JPzIrZ8jl1IxfFVxJcytmGMC3fBd1iA+gwnxQDPg=    1496.0          1   \n",
      "59336  zr/JPzIrZ8jl1IxfFVxJczLhx0hK1xiUCbnrNq+6nKc=    1925.0          1   \n",
      "59337  zr/JPzIrZ8jl1IxfFVxJczS5BKHf66v7DWcpcGKKFis=    2520.0          1   \n",
      "59338  zr/JPzIrZ8jl1IxfFVxJczpS28O8ZtxX4eKQV7QPze8=   18541.0          3   \n",
      "59339  zr/JPzIrZ8jl1IxfFVxJczuFBoNPHxxd/0xyznUBVGk=    8810.0          1   \n",
      "\n",
      "       Recency  \n",
      "0           45  \n",
      "1           61  \n",
      "2           44  \n",
      "3           72  \n",
      "4           89  \n",
      "...        ...  \n",
      "59335       59  \n",
      "59336       14  \n",
      "59337       86  \n",
      "59338       31  \n",
      "59339       15  \n",
      "\n",
      "[59340 rows x 4 columns]\n",
      "                                       ShopMemberId  Monetary  Frequency   \n",
      "0      +264TCZ+nRcIcGI25eFdqmkQ1O07LAtUSYa4kOm2Gpo=    2080.0          1  \\\n",
      "1      +458PoYquuxvkXIfUgKUPg0IZbntFRTlCkPVuP7mEd0=    8746.0          2   \n",
      "2      +458PoYquuxvkXIfUgKUPg3REaA4dLoBrHqeM10djm8=    5780.0          1   \n",
      "3      +458PoYquuxvkXIfUgKUPg7HG5qv58R7Yi1lE1Xgbcw=   10310.0          1   \n",
      "4      +458PoYquuxvkXIfUgKUPhGQ7x4EMni0k5+ipNHBWcw=    3880.0          2   \n",
      "...                                             ...       ...        ...   \n",
      "32834  zr/JPzIrZ8jl1IxfFVxJcxVoMkHm8ejzAEuxGFdImh0=    1900.0          1   \n",
      "32835  zr/JPzIrZ8jl1IxfFVxJcxnVgkefliyn8lbnhgSXoyE=    2465.0          1   \n",
      "32836  zr/JPzIrZ8jl1IxfFVxJcy3tMUCNVDmmVzE5t/nM7zw=    8103.0          2   \n",
      "32837  zr/JPzIrZ8jl1IxfFVxJcyPI47eoSAODLwjyn/bdZEI=    4800.0          1   \n",
      "32838  zr/JPzIrZ8jl1IxfFVxJczuFBoNPHxxd/0xyznUBVGk=    4897.0          1   \n",
      "\n",
      "       Recency  \n",
      "0           53  \n",
      "1           19  \n",
      "2           81  \n",
      "3           58  \n",
      "4           33  \n",
      "...        ...  \n",
      "32834       77  \n",
      "32835       81  \n",
      "32836       45  \n",
      "32837       74  \n",
      "32838       51  \n",
      "\n",
      "[32839 rows x 4 columns]\n",
      "                                       ShopMemberId  Monetary  Frequency   \n",
      "0      +0a6VFd3n3UA2rLwwT17sBHPZ6nNvqM4hgPPXRLFWxU=    1960.0          1  \\\n",
      "1      +0a6VFd3n3UA2rLwwT17sDEfzZXc4/mEyEkL4kXjnnk=    2205.0          1   \n",
      "2      +0a6VFd3n3UA2rLwwT17sEG4RSqwT3F26vpRApOZP54=    1440.0          1   \n",
      "3      +264TCZ+nRcIcGI25eFdqqEc3Y2mMS7+qfzmpfpHEd8=    3920.0          1   \n",
      "4      +264TCZ+nRcIcGI25eFdqvaOzaktGfzeQxmcKfFko1Q=    5439.0          1   \n",
      "...                                             ...       ...        ...   \n",
      "38390  zr/JPzIrZ8jl1IxfFVxJcy279wgykPeFxiVQ8I7ZFbc=   10105.0          2   \n",
      "38391  zr/JPzIrZ8jl1IxfFVxJcy3tMUCNVDmmVzE5t/nM7zw=    5357.0          1   \n",
      "38392  zr/JPzIrZ8jl1IxfFVxJcyPI47eoSAODLwjyn/bdZEI=    5338.0          1   \n",
      "38393  zr/JPzIrZ8jl1IxfFVxJczGEBzNUoChwMN1vNikAXu0=    3510.0          1   \n",
      "38394  zr/JPzIrZ8jl1IxfFVxJczuFBoNPHxxd/0xyznUBVGk=    1440.0          1   \n",
      "\n",
      "       Recency  \n",
      "0           40  \n",
      "1           27  \n",
      "2           12  \n",
      "3            8  \n",
      "4           44  \n",
      "...        ...  \n",
      "38390       11  \n",
      "38391       74  \n",
      "38392       44  \n",
      "38393       33  \n",
      "38394        0  \n",
      "\n",
      "[38395 rows x 4 columns]\n",
      "                                       ShopMemberId  Monetary  Frequency   \n",
      "0      +1M+FFZHS9pJCA2w8BWC2mF9HtK6DfXT2kvUIqixbs4=    6017.0          1  \\\n",
      "1      +264TCZ+nRcIcGI25eFdqg0Aknd7mj7vndVZxkHWvok=    3050.0          1   \n",
      "2      +264TCZ+nRcIcGI25eFdqi8yZObZ/XXPdHE2nu2GBKM=    3000.0          1   \n",
      "3      +264TCZ+nRcIcGI25eFdqjqmtypAXc9Hbp9sc1SShHA=    1200.0          1   \n",
      "4      +264TCZ+nRcIcGI25eFdqjvJQGf4evscFKLkqghslmM=    3520.0          1   \n",
      "...                                             ...       ...        ...   \n",
      "65071  zr/JPzIrZ8jl1IxfFVxJczJfgbA3mEBm5E/hzZYKm04=    5203.0          1   \n",
      "65072  zr/JPzIrZ8jl1IxfFVxJczLhx0hK1xiUCbnrNq+6nKc=    3400.0          1   \n",
      "65073  zr/JPzIrZ8jl1IxfFVxJczMEPg4BQM32176v9rLgNGQ=    4090.0          1   \n",
      "65074  zr/JPzIrZ8jl1IxfFVxJczpS28O8ZtxX4eKQV7QPze8=    5721.0          1   \n",
      "65075  zr/JPzIrZ8jl1IxfFVxJczuFBoNPHxxd/0xyznUBVGk=    3992.0          1   \n",
      "\n",
      "       Recency  \n",
      "0           57  \n",
      "1           48  \n",
      "2           48  \n",
      "3           82  \n",
      "4           83  \n",
      "...        ...  \n",
      "65071       67  \n",
      "65072       52  \n",
      "65073       26  \n",
      "65074       26  \n",
      "65075       69  \n",
      "\n",
      "[65076 rows x 4 columns]\n",
      "                                       ShopMemberId  Monetary  Frequency   \n",
      "0      +/9fS0BGRrjzV1gqlzmDJAJcRezacuTHFQ9HgPKLC+8=    1848.0          1  \\\n",
      "1      +/ztoEYYH8XSQxLt23qyHCO1aZcoLYrEEnGmNZ5o3M8=    4550.0          1   \n",
      "2      +08YaP4VT4k+owKRu0Vi5iw3MxTKQwcJKteo3dbP5Rg=    5250.0          1   \n",
      "3      +0a6VFd3n3UA2rLwwT17sA1C8fGJOxFIc2jpoY7DIaw=    5390.0          1   \n",
      "4      +0a6VFd3n3UA2rLwwT17sMS6mcCsOWH82nJkVxPgSew=    2450.0          1   \n",
      "...                                             ...       ...        ...   \n",
      "50951  zxS/eMg+Flff+42ajvrs3VvutTtPU75dbxDHmuLr/D0=    1990.0          1   \n",
      "50952  zyF4Qdr5GcWfVc32h4NsAMBoyDxmIJ+0uU3nOiOXSFc=    3212.0          1   \n",
      "50953  zyWf/HXCAeA27sbASjMc2GjQNF/bxDVAjnLFsnEJxYI=    4130.0          1   \n",
      "50954  zzZzxOHpW4lefs8DB3TtLKDsW/SIw+6iTjlL6ebABSM=    5150.0          1   \n",
      "50955  zzbqXxFesQ95HkD43SDYbelMmwYHGSWnCWhmGB7hcmA=    3312.0          1   \n",
      "\n",
      "       Recency  \n",
      "0           23  \n",
      "1           32  \n",
      "2           19  \n",
      "3           39  \n",
      "4           23  \n",
      "...        ...  \n",
      "50951       18  \n",
      "50952       23  \n",
      "50953       19  \n",
      "50954       33  \n",
      "50955       37  \n",
      "\n",
      "[50956 rows x 4 columns]\n",
      "                                       ShopMemberId  Monetary  Frequency   \n",
      "0      ++046Qci4ZdZsPOj/PizRSmHunb36TvdLsRKePat/5s=    2140.0          1  \\\n",
      "1      ++OpiyNSg2HOpUKvyOeRWyMv7hR/rLlu4zAT5R4tINs=    1590.0          1   \n",
      "2      +/DXraLthYrjWRz4OfwbUgVljMMuD8bimM/mNOYdlTY=    2490.0          1   \n",
      "3      +/Ix9KZ0uu5lyB3R6+QiSkWbbP+lAB0ywd+fP4WqIbI=    7340.0          1   \n",
      "4      +0RAm6utSXoCPvEeFcVA5+C+bSv98SKPBlrkrwDilWI=    1878.0          1   \n",
      "...                                             ...       ...        ...   \n",
      "33152  zwPq0/w//CuW7hgS7R014x0Uc52c7f0NhOPku60v48I=   20818.0          3   \n",
      "33153  zx+8nfpL/MqJkjTITDBuLj58MEFyGV+ifmDG9QsI86I=    2660.0          1   \n",
      "33154  zyNUhTFCE0uijs5BiaJ2fl/SLoWHSZ1Qd+UFa53wQyc=    2690.0          1   \n",
      "33155  zyyx3c4ZEysjg5e7/V9LLkkmbRE9cPQftClJ4kHNvKM=    6900.0          1   \n",
      "33156  zzb4M1H9IRe+ouZhnzEyM2aJS/06XRzwgOgB2SMlr68=    5120.0          1   \n",
      "\n",
      "       Recency  \n",
      "0           11  \n",
      "1           40  \n",
      "2           61  \n",
      "3           74  \n",
      "4           23  \n",
      "...        ...  \n",
      "33152       75  \n",
      "33153       65  \n",
      "33154       88  \n",
      "33155       11  \n",
      "33156       86  \n",
      "\n",
      "[33157 rows x 4 columns]\n",
      "                                       ShopMemberId  Monetary  Frequency   \n",
      "0      ++1hXRq40ReP6O2WnFXBJOiuaJa8SMo2qkjDOFCkixY=    6912.0          1  \\\n",
      "1      ++A8GfAEWotQbc9MjHDg3XkbesUX774sP+WKV3YPHNQ=     750.0          1   \n",
      "2      ++iJ0/mtsdEd+8VCQ2qre/uyVrJZRdgK7NWyicq2p9g=    8440.0          1   \n",
      "3      +/Be6JqDd9iQ9la0xPzL+y+eigYmq9XKGJ1SN+NyxKA=     975.0          1   \n",
      "4      +/ztoEYYH8XSQxLt23qyHCO1aZcoLYrEEnGmNZ5o3M8=    9776.0          1   \n",
      "...                                             ...       ...        ...   \n",
      "42371  zzBgBQeRId2VFijsiV/C5ZUr1vRL1eyVHcaLUm+Fd8o=   34160.0          1   \n",
      "42372  zzReo/6qI8LiQylhCsbWCghBvfjas1OVokihE1yX17Q=    4480.0          1   \n",
      "42373  zzW5IJWHkIzqW1YCLdFJxfjYr1Zn6jVHGJckz5JEF9w=    7535.0          3   \n",
      "42374  zziMuxecuYNBFgcu5Khp40K+l5xfuJc8Dt43ZnX2rc8=    7830.0          1   \n",
      "42375  zztfvxnwSWZ3CXCtOkaGW4w90069hB2P9inpue0JY9U=    5410.0          1   \n",
      "\n",
      "       Recency  \n",
      "0           41  \n",
      "1           89  \n",
      "2           53  \n",
      "3           74  \n",
      "4           36  \n",
      "...        ...  \n",
      "42371       71  \n",
      "42372       61  \n",
      "42373        7  \n",
      "42374       61  \n",
      "42375       54  \n",
      "\n",
      "[42376 rows x 4 columns]\n",
      "                                       ShopMemberId  Monetary  Frequency   \n",
      "0      ++0mTwLq9GtFnLrNoCXXGmJhK/KtMvESFOGRd21x4R0=    4700.0          1  \\\n",
      "1      ++7LkY3SNNcw6fUKX4aM+vCWl2UeFAbuSCSoYYw6sRM=    7800.0          1   \n",
      "2      ++92QwZM9ZqJIPWq6vWH5Yn+R6Dc2TfiaqmWrbGe2Vg=    2760.0          1   \n",
      "3      ++OpiyNSg2HOpUKvyOeRWyMv7hR/rLlu4zAT5R4tINs=    1590.0          1   \n",
      "4      ++QM3y2GEpSjTDUJQkgSPzua5h6EfqU6+8CbROFJ8E8=   12100.0          2   \n",
      "...                                             ...       ...        ...   \n",
      "61102  zzW5IJWHkIzqW1YCLdFJxfjYr1Zn6jVHGJckz5JEF9w=    3510.0          1   \n",
      "61103  zzdrPvI7smjA9NXKtEg90iWPeNOOsQ8lHhPQJtZHnJM=    7450.0          1   \n",
      "61104  zzkFT8mGysjhZhBUpDyNeypJ0s8a4ZRJLw4uFD1NUis=    2340.0          1   \n",
      "61105  zzkZevf9aq3E51lnbPY3MlBDuTMSV4b4RsbDSX+OcP4=    5985.0          1   \n",
      "61106  zzpOOBGki1BoZQM5+5hhdUnoea4vmqa3CpdasSkADZc=    5040.0          1   \n",
      "\n",
      "       Recency  \n",
      "0           86  \n",
      "1           39  \n",
      "2            7  \n",
      "3           34  \n",
      "4           27  \n",
      "...        ...  \n",
      "61102       86  \n",
      "61103       50  \n",
      "61104       20  \n",
      "61105       60  \n",
      "61106       18  \n",
      "\n",
      "[61107 rows x 4 columns]\n"
     ]
    }
   ],
   "source": [
    "processed_intervals = []\n",
    "\n",
    "for i in range(len(df_intervals)):\n",
    "    df = df_intervals[i]\n",
    "    end_date = bin_dates[i+1] \n",
    "    \n",
    "    # 計算 Monetary、Frequency\n",
    "    grouped_df = df.groupby('ShopMemberId').agg({'TotalSalesAmount':'sum', \n",
    "                                                  'OrderDateTime':'count'}).reset_index()\n",
    "    grouped_df.rename(columns={'OrderDateTime': 'Frequency','TotalSalesAmount': 'Monetary'}, inplace=True)\n",
    "    \n",
    "    \n",
    "    # 計算Recency\n",
    "    max_date_df = df.groupby('ShopMemberId')['OrderDateTime'].max().reset_index()\n",
    "    max_date_df['Recency'] = (end_date - max_date_df['OrderDateTime']).dt.days\n",
    "    \n",
    "    # 做merge\n",
    "    cut_df = pd.merge(grouped_df, max_date_df[['ShopMemberId', 'Recency']], on='ShopMemberId', how='left')\n",
    "    \n",
    "    processed_intervals.append(cut_df)\n",
    "    print(cut_df)"
   ]
  },
  {
   "attachments": {},
   "cell_type": "markdown",
   "metadata": {},
   "source": [
    "### 1-2. 訓練RFM model by k-means\n",
    "1. 去除異常值 (後續還是會加回來做分析)\n",
    "2. Train model\n",
    "3. 最後把前20%的客戶抓出來"
   ]
  },
  {
   "cell_type": "code",
   "execution_count": null,
   "metadata": {},
   "outputs": [],
   "source": [
    "#步驟1:去除異常值\n",
    "#--------------------------------------------------\n",
    "def remove_outliers_and_scale(train_data):\n",
    "    Q1 = train_data[['Monetary']].quantile(0.25)\n",
    "    Q3 = train_data[['Monetary']].quantile(0.75)\n",
    "    IQR = Q3 - Q1\n",
    "\n",
    "    upper_bound = Q3 + 2 * IQR\n",
    "\n",
    "    \n",
    "    #異常資料(後續還是會加回來)\n",
    "    outlier_data = train_data[\n",
    "        (train_data['Monetary'] > upper_bound['Monetary'])\n",
    "    ]\n",
    "    train_data = train_data[~train_data.index.isin(outlier_data.index)]\n",
    "    \n",
    "    #建立data_for_clustering(經標準化的train_data)\n",
    "    features = ['ShopMemberId', 'Monetary', 'Frequency', 'Recency']\n",
    "    data_for_clustering = train_data[features]\n",
    "\n",
    "    scaler = MinMaxScaler()\n",
    "    data_for_clustering[['Monetary', 'Recency']] = scaler.fit_transform(data_for_clustering[['Monetary','Recency']])\n",
    "\n",
    "    return train_data,outlier_data,data_for_clustering\n",
    "\n",
    "#步驟2:train kmeans Model並計算rfm分數\n",
    "def clusterKmeans_and_score(train_data,data_for_clustering):\n",
    "    #train k-means model\n",
    "    train_data = train_data.copy()\n",
    "    kmeans_model = KMeans(n_clusters=15, n_init='auto')\n",
    "    kmeans_model.fit(data_for_clustering[['Monetary', 'Frequency', 'Recency']])\n",
    "\n",
    "    cluster_labels = kmeans_model.labels_\n",
    "    data_for_clustering['Cluster'] = cluster_labels\n",
    "    train_data['Cluster'] = cluster_labels\n",
    "\n",
    "    # 計算每個cluster的平均跟數量\n",
    "    cluster_means = data_for_clustering.groupby('Cluster')[['Monetary', 'Frequency', 'Recency']].mean()\n",
    "    cluster_counts = data_for_clustering.groupby('Cluster').size().reset_index(name='Count')\n",
    "    cluster_means_sorted = cluster_means.merge(cluster_counts, on='Cluster')\n",
    "\n",
    "    # 計算rfm分數\n",
    "    scaler = MinMaxScaler()\n",
    "    cluster_means_sorted['Frequency'] = scaler.fit_transform(cluster_means_sorted['Frequency'].values.reshape(-1,1))\n",
    "    cluster_means_sorted['Recency'] = 1 - cluster_means_sorted['Recency']\n",
    "    cluster_means_sorted['Score'] = cluster_means_sorted['Monetary']*1.5 + cluster_means_sorted['Frequency'] + cluster_means_sorted['Recency']\n",
    "\n",
    "    return cluster_means_sorted, train_data\n",
    "\n",
    "\n",
    "def get_important_customers(train_data,outlier_data, cluster_means_sorted):\n",
    "    \n",
    "    #加回異常值資料\n",
    "    outlier_data = outlier_data.copy()\n",
    "    outlier_data['Score'] = 99\n",
    "    \n",
    "    # 建立final_df (包括資料被分群的欄位跟rfm分數)\n",
    "    final_df = pd.merge(train_data, cluster_means_sorted[['Cluster', 'Score']], on='Cluster', how='left')\n",
    "    final_df = pd.concat([final_df, outlier_data], ignore_index=True)\n",
    "    \n",
    "    final_df = final_df.sort_values(by=['Score', 'Monetary'], ascending=False).reset_index(drop=True)\n",
    "    final_df = final_df.drop(columns=['Score','Cluster'])\n",
    "\n",
    "    # 找出前20%高貢獻客戶\n",
    "    rfm_top_20_percent = int(0.2 * len(final_df))\n",
    "    rfm_important_customers = final_df.iloc[:rfm_top_20_percent]\n",
    "    \n",
    "    \n",
    "    return rfm_important_customers\n",
    "\n",
    "\n"
   ]
  },
  {
   "attachments": {},
   "cell_type": "markdown",
   "metadata": {},
   "source": [
    "- 抓出8個月間的important_customers"
   ]
  },
  {
   "cell_type": "code",
   "execution_count": null,
   "metadata": {},
   "outputs": [],
   "source": [
    "important_customers_list = []\n",
    "origin_data_list = []\n",
    "\n",
    "i = 1\n",
    "for train_data in processed_intervals:\n",
    "    end_date = bin_dates[i]\n",
    "    i+=1\n",
    "    #train_data為原資料 #data_for_clustering為要做分群的資料(通過標準化)\n",
    "    train_data,outlier_data,data_for_clustering = remove_outliers_and_scale(train_data)\n",
    "    \n",
    "    #train k-means model\n",
    "    cluster_means_sorted, train_data = clusterKmeans_and_score(train_data,data_for_clustering)\n",
    "    origin_data_list.append(train_data)\n",
    "    \n",
    "    #透過rfm score找出前20%重要客戶\n",
    "    important_customers = get_important_customers(train_data, outlier_data,cluster_means_sorted)\n",
    "    important_customers_list.append(important_customers)\n"
   ]
  },
  {
   "attachments": {},
   "cell_type": "markdown",
   "metadata": {},
   "source": [
    "- 劃出分群結果"
   ]
  },
  {
   "cell_type": "code",
   "execution_count": null,
   "metadata": {},
   "outputs": [],
   "source": [
    "#%matplotlib qt5\n",
    "def visualize_clusters_multiple(origin_data_list):\n",
    "    colors = ['red', 'blue', 'green', 'orange', 'purple', 'cyan', 'magenta', 'yellow', 'brown', 'pink', 'gray', 'olive', 'teal', 'navy', 'lime']\n",
    "\n",
    "    for i, data_for_clustering in enumerate(origin_data_list):\n",
    "        cluster_counts = data_for_clustering['Cluster'].unique()\n",
    "        fig = plt.figure(figsize=(10, 8))\n",
    "        ax = fig.add_subplot(111, projection='3d')\n",
    "\n",
    "        for cluster in cluster_counts:\n",
    "            cluster_data = data_for_clustering[data_for_clustering['Cluster'] == cluster]\n",
    "            # Sample 1/10 of the cluster data\n",
    "            sampled_data = cluster_data.sample(frac=0.1, random_state=1)\n",
    "            \n",
    "            ax.scatter(sampled_data['Monetary'], sampled_data['Frequency'], sampled_data['Recency'], c=colors[cluster], label=f'Cluster {cluster}')\n",
    "\n",
    "\n",
    "        ax.set_xlabel('Monetary')\n",
    "        ax.set_ylabel('Frequency')\n",
    "        ax.set_zlabel('Recency')\n",
    "        ax.invert_yaxis()\n",
    "        ax.legend(loc='upper left')\n",
    "        plt.title(f'Interval #{i+1}')\n",
    "        plt.show()\n",
    "\n",
    "\n",
    "visualize_clusters_multiple(origin_data_list)"
   ]
  },
  {
   "attachments": {},
   "cell_type": "markdown",
   "metadata": {},
   "source": [
    "- 抓出8個區間前 20%高貢獻的客戶ShopMemberId"
   ]
  },
  {
   "cell_type": "code",
   "execution_count": null,
   "metadata": {},
   "outputs": [
    {
     "name": "stdout",
     "output_type": "stream",
     "text": [
      "58715\n"
     ]
    }
   ],
   "source": [
    "# Concatenate 'ShopMemberId' columns from all dataframes in the list\n",
    "all_shop_member_ids = pd.concat([df['ShopMemberId'] for df in important_customers_list])\n",
    "\n",
    "# Get unique values\n",
    "unique_shop_member_ids = all_shop_member_ids.unique()\n",
    "print(len(unique_shop_member_ids))"
   ]
  },
  {
   "attachments": {},
   "cell_type": "markdown",
   "metadata": {},
   "source": [
    "- 取出Member資料，儲存前20%高貢獻客戶的資料"
   ]
  },
  {
   "cell_type": "code",
   "execution_count": null,
   "metadata": {},
   "outputs": [
    {
     "name": "stderr",
     "output_type": "stream",
     "text": [
      "C:\\Users\\Ching\\AppData\\Local\\Temp\\ipykernel_3412\\1331252583.py:7: UserWarning: pandas only supports SQLAlchemy connectable (engine/connection) or database string URI or sqlite3 DBAPI2 connection. Other DBAPI2 objects are not tested. Please consider using SQLAlchemy.\n",
      "  member_df = pd.read_sql_query(select_query, connection)\n"
     ]
    }
   ],
   "source": [
    "select_query = \"\"\"\n",
    "SELECT * \n",
    "FROM \"Member\" \n",
    "\"\"\"\n",
    "\n",
    "try:\n",
    "    member_df = pd.read_sql_query(select_query, connection)\n",
    "except Exception as e:\n",
    "    print(f\"The error '{e}' occurred\")"
   ]
  },
  {
   "cell_type": "code",
   "execution_count": null,
   "metadata": {},
   "outputs": [
    {
     "name": "stdout",
     "output_type": "stream",
     "text": [
      "58715\n"
     ]
    }
   ],
   "source": [
    "# 從data DataFrame中選擇出與important_client_data中出現的客戶訂單\n",
    "important_client_data = member_df[member_df['ShopMemberId'].isin(unique_shop_member_ids)]\n",
    "important_client_data = important_client_data[['ShopMemberId','Gender','Birthday','MemberCardLevel','CountryAliasCode']]\n",
    "important_client_data = important_client_data.set_index('ShopMemberId')\n",
    "print(len(important_client_data))"
   ]
  },
  {
   "attachments": {},
   "cell_type": "markdown",
   "metadata": {},
   "source": [
    "- 儲存結果"
   ]
  },
  {
   "cell_type": "code",
   "execution_count": null,
   "metadata": {},
   "outputs": [],
   "source": [
    "important_client_data.to_pickle('./vip_list.pkl', compression='zip')"
   ]
  },
  {
   "cell_type": "code",
   "execution_count": null,
   "metadata": {},
   "outputs": [],
   "source": [
    "# 關閉連線\n",
    "connection.close()"
   ]
  },
  {
   "attachments": {},
   "cell_type": "markdown",
   "metadata": {},
   "source": [
    "## 2. \"高貢獻\"與\"其他會員\" 的消費高峰區間\n",
    "計算高貢獻會員與其他會員在每個區間的消費額。\n",
    "根據2021-1-1 ~ 2022-12-31，區間窗口為14天，每次滑動5天。\n",
    "獲得(1,143)的向量，經正規化後，計算consine similarity，分析高貢獻和其他會員的偏好消費區間相似度。"
   ]
  },
  {
   "attachments": {},
   "cell_type": "markdown",
   "metadata": {},
   "source": [
    "- 讀取VIP名單"
   ]
  },
  {
   "cell_type": "code",
   "execution_count": 9,
   "metadata": {},
   "outputs": [],
   "source": [
    "conn, cursor = sql_conn()\n",
    "vip_df = pd.read_pickle('./vip_list.pkl', compression='zip')"
   ]
  },
  {
   "attachments": {},
   "cell_type": "markdown",
   "metadata": {},
   "source": [
    "- 從資料庫取出訂單資訊，計算每個窗口的訂單金額"
   ]
  },
  {
   "cell_type": "code",
   "execution_count": 10,
   "metadata": {},
   "outputs": [
    {
     "name": "stderr",
     "output_type": "stream",
     "text": [
      "100%|██████████| 14571/14571 [00:00<00:00, 549251.40it/s]\n",
      "100%|██████████| 11288/11288 [00:00<00:00, 707374.81it/s]\n",
      "100%|██████████| 10894/10894 [00:00<00:00, 681340.65it/s]\n",
      "100%|██████████| 12132/12132 [00:00<00:00, 578360.30it/s]\n",
      "100%|██████████| 14313/14313 [00:00<00:00, 716325.28it/s]\n",
      "100%|██████████| 16568/16568 [00:00<00:00, 648523.41it/s]\n",
      "100%|██████████| 20893/20893 [00:00<00:00, 604626.86it/s]\n",
      "100%|██████████| 23006/23006 [00:00<00:00, 698347.44it/s]\n",
      "100%|██████████| 17382/17382 [00:00<00:00, 644935.04it/s]\n",
      "100%|██████████| 12970/12970 [00:00<00:00, 721228.78it/s]\n",
      "100%|██████████| 10457/10457 [00:00<00:00, 698961.54it/s]\n",
      "100%|██████████| 10649/10649 [00:00<00:00, 427111.10it/s]\n",
      "100%|██████████| 9216/9216 [00:00<00:00, 768009.89it/s]\n",
      "100%|██████████| 11654/11654 [00:00<00:00, 730343.34it/s]\n",
      "100%|██████████| 12408/12408 [00:00<00:00, 731854.76it/s]\n",
      "100%|██████████| 12866/12866 [00:00<00:00, 757303.25it/s]\n",
      "100%|██████████| 12732/12732 [00:00<00:00, 722623.53it/s]\n",
      "100%|██████████| 13040/13040 [00:00<00:00, 724698.55it/s]\n",
      "100%|██████████| 11434/11434 [00:00<00:00, 674386.85it/s]\n",
      "100%|██████████| 8655/8655 [00:00<00:00, 721962.16it/s]\n",
      "100%|██████████| 8648/8648 [00:00<00:00, 720675.95it/s]\n",
      "100%|██████████| 9378/9378 [00:00<00:00, 625334.78it/s]\n",
      "100%|██████████| 11709/11709 [00:00<00:00, 733768.20it/s]\n",
      "100%|██████████| 13731/13731 [00:00<00:00, 688405.31it/s]\n",
      "100%|██████████| 12118/12118 [00:00<00:00, 725606.75it/s]\n",
      "100%|██████████| 9075/9075 [00:00<00:00, 667648.50it/s]\n",
      "100%|██████████| 5559/5559 [00:00<00:00, 792634.48it/s]\n",
      "100%|██████████| 4972/4972 [00:00<00:00, 712156.52it/s]\n",
      "100%|██████████| 4181/4181 [00:00<00:00, 833042.85it/s]\n",
      "100%|██████████| 3611/3611 [00:00<00:00, 897731.71it/s]\n",
      "100%|██████████| 3957/3957 [00:00<00:00, 983809.18it/s]\n",
      "100%|██████████| 5427/5427 [00:00<00:00, 773944.71it/s]\n",
      "100%|██████████| 6712/6712 [00:00<00:00, 779169.37it/s]\n",
      "100%|██████████| 6273/6273 [00:00<00:00, 785821.31it/s]\n",
      "100%|██████████| 6204/6204 [00:00<00:00, 622046.81it/s]\n",
      "100%|██████████| 6225/6225 [00:00<00:00, 691533.59it/s]\n",
      "100%|██████████| 6907/6907 [00:00<00:00, 654394.80it/s]\n",
      "100%|██████████| 6401/6401 [00:00<00:00, 710690.10it/s]\n",
      "100%|██████████| 6496/6496 [00:00<00:00, 542817.84it/s]\n",
      "100%|██████████| 6547/6547 [00:00<00:00, 728365.52it/s]\n",
      "100%|██████████| 7287/7287 [00:00<00:00, 663941.72it/s]\n",
      "100%|██████████| 8420/8420 [00:00<00:00, 701689.64it/s]\n",
      "100%|██████████| 9162/9162 [00:00<00:00, 656197.08it/s]\n",
      "100%|██████████| 9559/9559 [00:00<00:00, 638520.68it/s]\n",
      "100%|██████████| 8871/8871 [00:00<00:00, 739259.52it/s]\n",
      "100%|██████████| 8824/8824 [00:00<00:00, 737291.10it/s]\n",
      "100%|██████████| 9455/9455 [00:00<00:00, 727560.58it/s]\n",
      "100%|██████████| 9297/9297 [00:00<00:00, 665604.58it/s]\n",
      "100%|██████████| 9588/9588 [00:00<00:00, 681148.15it/s]\n",
      "100%|██████████| 8515/8515 [00:00<00:00, 773996.02it/s]\n",
      "100%|██████████| 11850/11850 [00:00<00:00, 741087.31it/s]\n",
      "100%|██████████| 12047/12047 [00:00<00:00, 710572.08it/s]\n",
      "100%|██████████| 12267/12267 [00:00<00:00, 767704.08it/s]\n",
      "100%|██████████| 8888/8888 [00:00<00:00, 682190.35it/s]\n",
      "100%|██████████| 10611/10611 [00:00<00:00, 728515.82it/s]\n",
      "100%|██████████| 10216/10216 [00:00<00:00, 568146.09it/s]\n",
      "100%|██████████| 11012/11012 [00:00<00:00, 690140.84it/s]\n",
      "100%|██████████| 11052/11052 [00:00<00:00, 703826.91it/s]\n",
      "100%|██████████| 13681/13681 [00:00<00:00, 684793.52it/s]\n",
      "100%|██████████| 14830/14830 [00:00<00:00, 742261.67it/s]\n",
      "100%|██████████| 17920/17920 [00:00<00:00, 690978.96it/s]\n",
      "100%|██████████| 25612/25612 [00:00<00:00, 625892.97it/s]\n",
      "100%|██████████| 24561/24561 [00:00<00:00, 683512.70it/s]\n",
      "100%|██████████| 17847/17847 [00:00<00:00, 622231.91it/s]\n",
      "100%|██████████| 13289/13289 [00:00<00:00, 738928.37it/s]\n",
      "100%|██████████| 13106/13106 [00:00<00:00, 771483.98it/s]\n",
      "100%|██████████| 13800/13800 [00:00<00:00, 768758.90it/s]\n",
      "100%|██████████| 16912/16912 [00:00<00:00, 737237.77it/s]\n",
      "100%|██████████| 15755/15755 [00:00<00:00, 751205.11it/s]\n",
      "100%|██████████| 15189/15189 [00:00<00:00, 662148.39it/s]\n",
      "100%|██████████| 13297/13297 [00:00<00:00, 630031.63it/s]\n",
      "100%|██████████| 14670/14670 [00:00<00:00, 772878.96it/s]\n",
      "100%|██████████| 11941/11941 [00:00<00:00, 704309.94it/s]\n",
      "100%|██████████| 10177/10177 [00:00<00:00, 680050.85it/s]\n",
      "100%|██████████| 10436/10436 [00:00<00:00, 747430.23it/s]\n",
      "100%|██████████| 11625/11625 [00:00<00:00, 727081.08it/s]\n",
      "100%|██████████| 13518/13518 [00:00<00:00, 628873.45it/s]\n",
      "100%|██████████| 18220/18220 [00:00<00:00, 661286.22it/s]\n",
      "100%|██████████| 19498/19498 [00:00<00:00, 681919.33it/s]\n",
      "100%|██████████| 14969/14969 [00:00<00:00, 682247.81it/s]\n",
      "100%|██████████| 9498/9498 [00:00<00:00, 696715.57it/s]\n",
      "100%|██████████| 8769/8769 [00:00<00:00, 756740.36it/s]\n",
      "100%|██████████| 11433/11433 [00:00<00:00, 730764.20it/s]\n",
      "100%|██████████| 10926/10926 [00:00<00:00, 782550.94it/s]\n",
      "100%|██████████| 10530/10530 [00:00<00:00, 636187.16it/s]\n",
      "100%|██████████| 9812/9812 [00:00<00:00, 614943.98it/s]\n",
      "100%|██████████| 10116/10116 [00:00<00:00, 633930.16it/s]\n",
      "100%|██████████| 9715/9715 [00:00<00:00, 749189.42it/s]\n",
      "100%|██████████| 10338/10338 [00:00<00:00, 738507.25it/s]\n",
      "100%|██████████| 11759/11759 [00:00<00:00, 735352.40it/s]\n",
      "100%|██████████| 11237/11237 [00:00<00:00, 703611.17it/s]\n",
      "100%|██████████| 8391/8391 [00:00<00:00, 727097.03it/s]\n",
      "100%|██████████| 6231/6231 [00:00<00:00, 691394.40it/s]\n",
      "100%|██████████| 6729/6729 [00:00<00:00, 613473.71it/s]\n",
      "100%|██████████| 7085/7085 [00:00<00:00, 789370.55it/s]\n",
      "100%|██████████| 7370/7370 [00:00<00:00, 616969.45it/s]\n",
      "100%|██████████| 6782/6782 [00:00<00:00, 752852.26it/s]\n",
      "100%|██████████| 5882/5882 [00:00<00:00, 838974.91it/s]\n",
      "100%|██████████| 5617/5617 [00:00<00:00, 701360.65it/s]\n",
      "100%|██████████| 6410/6410 [00:00<00:00, 800234.80it/s]\n",
      "100%|██████████| 7287/7287 [00:00<00:00, 728336.03it/s]\n",
      "100%|██████████| 7385/7385 [00:00<00:00, 673090.14it/s]\n",
      "100%|██████████| 8007/8007 [00:00<00:00, 728451.34it/s]\n",
      "100%|██████████| 7972/7972 [00:00<00:00, 613917.04it/s]\n",
      "100%|██████████| 8381/8381 [00:00<00:00, 698384.03it/s]\n",
      "100%|██████████| 8862/8862 [00:00<00:00, 565941.75it/s]\n",
      "100%|██████████| 9392/9392 [00:00<00:00, 435064.37it/s]\n",
      "100%|██████████| 9178/9178 [00:00<00:00, 728526.16it/s]\n",
      "100%|██████████| 8910/8910 [00:00<00:00, 476716.65it/s]\n",
      "100%|██████████| 8672/8672 [00:00<00:00, 668830.41it/s]\n",
      "100%|██████████| 8949/8949 [00:00<00:00, 747869.58it/s]\n",
      "100%|██████████| 9002/9002 [00:00<00:00, 712828.96it/s]\n",
      "100%|██████████| 8617/8617 [00:00<00:00, 508144.95it/s]\n",
      "100%|██████████| 8866/8866 [00:00<00:00, 683252.48it/s]\n",
      "100%|██████████| 9781/9781 [00:00<00:00, 698895.85it/s]\n",
      "100%|██████████| 10399/10399 [00:00<00:00, 718796.43it/s]\n",
      "100%|██████████| 10361/10361 [00:00<00:00, 690399.30it/s]\n",
      "100%|██████████| 9046/9046 [00:00<00:00, 753917.93it/s]\n",
      "100%|██████████| 8459/8459 [00:00<00:00, 659068.18it/s]\n",
      "100%|██████████| 8133/8133 [00:00<00:00, 679419.11it/s]\n",
      "100%|██████████| 7707/7707 [00:00<00:00, 643985.60it/s]\n",
      "100%|██████████| 8553/8553 [00:00<00:00, 777315.38it/s]\n",
      "100%|██████████| 8895/8895 [00:00<00:00, 645372.42it/s]\n",
      "100%|██████████| 9651/9651 [00:00<00:00, 690253.53it/s]\n",
      "100%|██████████| 9482/9482 [00:00<00:00, 729571.30it/s]\n",
      "100%|██████████| 10319/10319 [00:00<00:00, 688990.78it/s]\n",
      "100%|██████████| 10919/10919 [00:00<00:00, 684251.03it/s]\n",
      "100%|██████████| 12112/12112 [00:00<00:00, 674725.20it/s]\n",
      "100%|██████████| 11354/11354 [00:00<00:00, 710142.08it/s]\n",
      "100%|██████████| 11675/11675 [00:00<00:00, 730208.31it/s]\n",
      "100%|██████████| 10773/10773 [00:00<00:00, 675132.04it/s]\n",
      "100%|██████████| 12118/12118 [00:00<00:00, 675023.59it/s]\n",
      "100%|██████████| 12918/12918 [00:00<00:00, 680969.50it/s]\n",
      "100%|██████████| 14693/14693 [00:00<00:00, 651736.59it/s]\n",
      "100%|██████████| 19116/19116 [00:00<00:00, 684559.23it/s]\n",
      "100%|██████████| 18605/18605 [00:00<00:00, 685817.21it/s]\n",
      "100%|██████████| 14897/14897 [00:00<00:00, 678973.61it/s]\n",
      "100%|██████████| 12179/12179 [00:00<00:00, 716936.30it/s]\n",
      "100%|██████████| 12107/12107 [00:00<00:00, 735245.11it/s]\n",
      "100%|██████████| 13339/13339 [00:00<00:00, 703932.12it/s]\n",
      "100%|██████████| 15356/15356 [00:00<00:00, 733189.13it/s]\n",
      "100%|██████████| 16692/16692 [00:00<00:00, 643699.41it/s]\n",
      "100%|██████████| 15682/15682 [00:00<00:00, 747571.46it/s]\n"
     ]
    }
   ],
   "source": [
    "st_date = date(2021,1,1)        # 設定起始日期\n",
    "final_date = date(2022,12,15)   # 終止日期\n",
    "results = list()\n",
    "\n",
    "while st_date <= final_date:\n",
    "    end_date = st_date + timedelta(days=14)  # 窗口大小設為14天\n",
    "    sql_query = 'select \"TotalSalesAmount\", \"ShopMemberId\" from \"Order\" where \"OrderDateTime\" >= %s and \"OrderDateTime\" < %s'\n",
    "    cursor.execute(sql_query, (st_date.isoformat(), end_date.isoformat()))  # 從DB取出資料\n",
    "    \n",
    "    rows = cursor.fetchall()\n",
    "    vip_total = 0.0\n",
    "    other_total = 0.0\n",
    "    \n",
    "    for row in tqdm(rows):\n",
    "        if row[1] in vip_df.index:  # 如果為VIP\n",
    "            vip_total += row[0]     # 累加區間內高貢獻總訂單金額\n",
    "        else:\n",
    "            other_total += row[0]   # 累加區間內其他總訂單金額\n",
    "    \n",
    "    results.append((\"{:s} ~ {:s}\".format(st_date.isoformat(), end_date.isoformat()), st_date.isoformat(), end_date.isoformat(), vip_total, other_total))\n",
    "    st_date += timedelta(days=5)    # 窗口每次滑移5天"
   ]
  },
  {
   "attachments": {},
   "cell_type": "markdown",
   "metadata": {},
   "source": [
    "- 轉換為DataFrame"
   ]
  },
  {
   "cell_type": "code",
   "execution_count": 11,
   "metadata": {},
   "outputs": [
    {
     "data": {
      "text/html": [
       "<div>\n",
       "<style scoped>\n",
       "    .dataframe tbody tr th:only-of-type {\n",
       "        vertical-align: middle;\n",
       "    }\n",
       "\n",
       "    .dataframe tbody tr th {\n",
       "        vertical-align: top;\n",
       "    }\n",
       "\n",
       "    .dataframe thead th {\n",
       "        text-align: right;\n",
       "    }\n",
       "</style>\n",
       "<table border=\"1\" class=\"dataframe\">\n",
       "  <thead>\n",
       "    <tr style=\"text-align: right;\">\n",
       "      <th></th>\n",
       "      <th>Period</th>\n",
       "      <th>Start_date</th>\n",
       "      <th>End_data</th>\n",
       "      <th>VIP_total</th>\n",
       "      <th>Other_total</th>\n",
       "    </tr>\n",
       "  </thead>\n",
       "  <tbody>\n",
       "    <tr>\n",
       "      <th>0</th>\n",
       "      <td>2021-01-01 ~ 2021-01-15</td>\n",
       "      <td>2021-01-01</td>\n",
       "      <td>2021-01-15</td>\n",
       "      <td>22430988.0</td>\n",
       "      <td>36920098.0</td>\n",
       "    </tr>\n",
       "    <tr>\n",
       "      <th>1</th>\n",
       "      <td>2021-01-06 ~ 2021-01-20</td>\n",
       "      <td>2021-01-06</td>\n",
       "      <td>2021-01-20</td>\n",
       "      <td>18247677.0</td>\n",
       "      <td>28098444.0</td>\n",
       "    </tr>\n",
       "    <tr>\n",
       "      <th>2</th>\n",
       "      <td>2021-01-11 ~ 2021-01-25</td>\n",
       "      <td>2021-01-11</td>\n",
       "      <td>2021-01-25</td>\n",
       "      <td>17868461.0</td>\n",
       "      <td>25504701.0</td>\n",
       "    </tr>\n",
       "    <tr>\n",
       "      <th>3</th>\n",
       "      <td>2021-01-16 ~ 2021-01-30</td>\n",
       "      <td>2021-01-16</td>\n",
       "      <td>2021-01-30</td>\n",
       "      <td>20742269.0</td>\n",
       "      <td>27603568.0</td>\n",
       "    </tr>\n",
       "    <tr>\n",
       "      <th>4</th>\n",
       "      <td>2021-01-21 ~ 2021-02-04</td>\n",
       "      <td>2021-01-21</td>\n",
       "      <td>2021-02-04</td>\n",
       "      <td>25956810.0</td>\n",
       "      <td>31810092.0</td>\n",
       "    </tr>\n",
       "  </tbody>\n",
       "</table>\n",
       "</div>"
      ],
      "text/plain": [
       "                    Period  Start_date    End_data   VIP_total  Other_total\n",
       "0  2021-01-01 ~ 2021-01-15  2021-01-01  2021-01-15  22430988.0   36920098.0\n",
       "1  2021-01-06 ~ 2021-01-20  2021-01-06  2021-01-20  18247677.0   28098444.0\n",
       "2  2021-01-11 ~ 2021-01-25  2021-01-11  2021-01-25  17868461.0   25504701.0\n",
       "3  2021-01-16 ~ 2021-01-30  2021-01-16  2021-01-30  20742269.0   27603568.0\n",
       "4  2021-01-21 ~ 2021-02-04  2021-01-21  2021-02-04  25956810.0   31810092.0"
      ]
     },
     "execution_count": 11,
     "metadata": {},
     "output_type": "execute_result"
    }
   ],
   "source": [
    "result_pd = pd.DataFrame(results, columns=['Period', 'Start_date', 'End_data', 'VIP_total', 'Other_total'])\n",
    "result_pd.to_pickle('./peak.pkl', compression='zip')\n",
    "# result_pd = pd.read_pickle('./peak.pkl', compression='zip')\n",
    "result_pd.head()"
   ]
  },
  {
   "attachments": {},
   "cell_type": "markdown",
   "metadata": {},
   "source": [
    "- 將消費高峰數據轉換為向量，經正規化後，計算相似度"
   ]
  },
  {
   "cell_type": "code",
   "execution_count": 13,
   "metadata": {},
   "outputs": [
    {
     "name": "stdout",
     "output_type": "stream",
     "text": [
      "消費高峰相似度:  0.9239615460344095\n"
     ]
    }
   ],
   "source": [
    "# 找出最大值\n",
    "vip_base = result_pd['VIP_total'].iloc[result_pd['VIP_total'].argmax()]\n",
    "normal_base = result_pd['Other_total'].iloc[result_pd['Other_total'].argmax()]\n",
    "\n",
    "# 正規化\n",
    "result_pd['VIP_total_N'] = result_pd['VIP_total'].apply( lambda x: x/vip_base )\n",
    "result_pd['Other_total_N'] = result_pd['Other_total'].apply( lambda x: x/normal_base )\n",
    "\n",
    "# 轉換為向量 (1, 143)\n",
    "vip_peak_vec = result_pd['VIP_total_N'].to_numpy()\n",
    "normal_peak_vec = result_pd['Other_total_N'].to_numpy()\n",
    "simi = cosine_similarity(vip_peak_vec.reshape(1,143), normal_peak_vec.reshape(1,143))\n",
    "print('消費高峰相似度: ', simi[0][0])"
   ]
  },
  {
   "attachments": {},
   "cell_type": "markdown",
   "metadata": {},
   "source": [
    "### 2-1. 計算每位會員平均使用的支付種類數"
   ]
  },
  {
   "cell_type": "code",
   "execution_count": 14,
   "metadata": {},
   "outputs": [],
   "source": [
    "'''\n",
    "引入SelectionFlow.py的計算結果，\n",
    "'payment.pkl' (計算期間每位會員使用的支付次數)。\n",
    "'''\n",
    "pay_df = pd.read_pickle('./payment.pkl', compression='zip')"
   ]
  },
  {
   "cell_type": "code",
   "execution_count": 15,
   "metadata": {},
   "outputs": [],
   "source": [
    "def countPayment(series):\n",
    "    count = 0\n",
    "    for i in series.index:\n",
    "        if series[i] > 0 and i != 'Offline':  # 排除線下\n",
    "            count += 1\n",
    "    return count\n",
    "\n",
    "# 計算每位會員共使用幾種支付方式\n",
    "pay_df['CountPayment'] = pay_df.apply(countPayment, axis=1)\n",
    "\n",
    "membercount = 0\n",
    "for c in pay_df['CountPayment']:\n",
    "    if c > 0:\n",
    "        membercount += 1"
   ]
  },
  {
   "cell_type": "code",
   "execution_count": 16,
   "metadata": {},
   "outputs": [
    {
     "name": "stdout",
     "output_type": "stream",
     "text": [
      "1.21 種/人\n"
     ]
    }
   ],
   "source": [
    "# 計算平均使用的支付種類\n",
    "avg_pay = pay_df['CountPayment'].sum()/membercount\n",
    "print('{:.2f} 種/人'.format(avg_pay))"
   ]
  },
  {
   "attachments": {},
   "cell_type": "markdown",
   "metadata": {},
   "source": [
    "- 支付方式使用次數排名"
   ]
  },
  {
   "cell_type": "code",
   "execution_count": 17,
   "metadata": {},
   "outputs": [
    {
     "name": "stdout",
     "output_type": "stream",
     "text": [
      "{'CreditCardOnce': 66457, 'CreditCardInstallment': 36984, 'ATM': 13862, 'Family': 0, 'SevenEleven': 0, 'ApplePay': 13400, 'LinePay': 29924, 'GooglePay': 109, 'JKOPay': 6389, 'Aftee': 8250, 'Atome': 476, 'EasyWallet': 1121, 'FreeOfCharge': 2, 'Offline': 401454, 'CountPayment': 86772}\n",
      "[('Offline', 401454), ('CountPayment', 86772), ('CreditCardOnce', 66457), ('CreditCardInstallment', 36984), ('LinePay', 29924), ('ATM', 13862), ('ApplePay', 13400), ('Aftee', 8250), ('JKOPay', 6389), ('EasyWallet', 1121), ('Atome', 476), ('GooglePay', 109), ('FreeOfCharge', 2), ('SevenEleven', 0), ('Family', 0)]\n"
     ]
    }
   ],
   "source": [
    "# 支付方式排名\n",
    "payment = dict()\n",
    "\n",
    "for i in pay_df.columns:\n",
    "    payment[i] = pay_df[i].sum()\n",
    "    \n",
    "print(payment)    \n",
    "\n",
    "# 排序\n",
    "payment_sort = sorted(payment.items(), key=lambda x: x[1])\n",
    "print(payment_sort[::-1])"
   ]
  },
  {
   "attachments": {},
   "cell_type": "markdown",
   "metadata": {},
   "source": [
    "### 2-2. 高貢獻會員貢獻金額占比\n",
    "貢獻金額可以作為名單品質的指標  \n",
    "- 計算高貢獻會員人數比"
   ]
  },
  {
   "cell_type": "code",
   "execution_count": 19,
   "metadata": {},
   "outputs": [
    {
     "name": "stdout",
     "output_type": "stream",
     "text": [
      "高貢獻會員占比: 21.18%\n"
     ]
    }
   ],
   "source": [
    "'''\n",
    "'payment.pkl' (計算期間每位會員使用的支付次數)，\n",
    "也等同於其間有消費過的會員名單。\n",
    "'''\n",
    "total_member = len(pay_df.index)\n",
    "\n",
    "cursor.execute('select count(*) from \"VIP\"; ')\n",
    "[(total_vip,)] = cursor.fetchall() \n",
    "\n",
    "print('高貢獻會員占比: {:.2f}%'.format(total_vip/total_member*100))"
   ]
  },
  {
   "attachments": {},
   "cell_type": "markdown",
   "metadata": {},
   "source": [
    "- 計算高貢獻會員的消費金額占比  \n",
    "- 同時存下高貢獻會員期間內的所有訂單"
   ]
  },
  {
   "cell_type": "code",
   "execution_count": 26,
   "metadata": {},
   "outputs": [
    {
     "name": "stderr",
     "output_type": "stream",
     "text": [
      "100%|██████████| 578428/578428 [00:00<00:00, 674147.99it/s]\n"
     ]
    },
    {
     "name": "stdout",
     "output_type": "stream",
     "text": [
      "高貢獻會員消費占比: 50.97%\n"
     ]
    }
   ],
   "source": [
    "# sql 語句，取出訂單資料\n",
    "sql_query = 'select \"ShopMemberId\", \"TotalSalesAmount\", \"TotalPrice\", \"TotalDiscount\", \"PaymentType\", \"TsCount\" from \"Order\" \\\n",
    "    where \"OrderDateTime\" >= %s and \"OrderDateTime\" < %s'\n",
    "cursor.execute(sql_query, ('2021-1-1', '2023-1-1'))\n",
    "\n",
    "rows = cursor.fetchall()\n",
    "vip_orders = list()\n",
    "vip_total = 0.0\n",
    "sales_total = 0.0\n",
    "\n",
    "for row in tqdm(rows):\n",
    "    sales_total += row[1]       # 累加金額\n",
    "    if row[0] in vip_df.index:\n",
    "        vip_total += row[1]     # 累加金額\n",
    "        vip_orders.append(row)\n",
    "\n",
    "print('高貢獻會員消費占比: {:.2f}%'.format(vip_total/sales_total*100))\n",
    "\n",
    "# 轉換成DataFrame並儲存\n",
    "vip_orders_df = pd.DataFrame(vip_orders, columns=[\"ShopMemberId\", \"TotalSalesAmount\", \"TotalPrice\", \"TotalDiscount\", \"PaymentType\", \"TsCount\"])  \n",
    "vip_orders_df.to_pickle('./vip_orders.pkl', compression='zip')"
   ]
  },
  {
   "attachments": {},
   "cell_type": "markdown",
   "metadata": {},
   "source": [
    "## 3. 會員等級的轉換率\n",
    "- 讀出vip list"
   ]
  },
  {
   "cell_type": "code",
   "execution_count": 27,
   "metadata": {},
   "outputs": [],
   "source": [
    "vip_df = pd.read_pickle('./vip_list.pkl', compression='zip')"
   ]
  },
  {
   "attachments": {},
   "cell_type": "markdown",
   "metadata": {},
   "source": [
    "- 計算各等級會員占比"
   ]
  },
  {
   "cell_type": "code",
   "execution_count": 28,
   "metadata": {},
   "outputs": [
    {
     "data": {
      "image/png": "[encoded data removed]",
      "text/plain": [
       "<Figure size 640x480 with 1 Axes>"
      ]
     },
     "metadata": {},
     "output_type": "display_data"
    }
   ],
   "source": [
    "vip_proportion = vip_df['MemberCardLevel'].value_counts()\n",
    "vip_proportion.plot(kind='pie', autopct='%1.1f%%')\n",
    "plt.title('MemberCardLevel Distribution')\n",
    "plt.ylabel('')\n",
    "plt.show()"
   ]
  },
  {
   "attachments": {},
   "cell_type": "markdown",
   "metadata": {},
   "source": [
    "- 讀出vip orders"
   ]
  },
  {
   "cell_type": "code",
   "execution_count": 29,
   "metadata": {},
   "outputs": [],
   "source": [
    "vip_orders_df = pd.read_pickle('./vip_orders.pkl', compression='zip')"
   ]
  },
  {
   "attachments": {},
   "cell_type": "markdown",
   "metadata": {},
   "source": [
    "- 使用額外欄位紀錄每筆訂單來自何種等級之會員"
   ]
  },
  {
   "cell_type": "code",
   "execution_count": 30,
   "metadata": {},
   "outputs": [],
   "source": [
    "def levelValue(series):\n",
    "    if vip_df.loc[series['ShopMemberId']]['MemberCardLevel'] == 30:\n",
    "        series['On_30'] = series['TotalSalesAmount']\n",
    "    elif vip_df.loc[series['ShopMemberId']]['MemberCardLevel'] == 20:\n",
    "        series['On_20'] = series['TotalSalesAmount']\n",
    "    else:\n",
    "        series['On_10'] = series['TotalSalesAmount']\n",
    "        \n",
    "    return series\n",
    "\n",
    "\n",
    "vip_orders_df = vip_orders_df.apply(levelValue, axis=1)"
   ]
  },
  {
   "attachments": {},
   "cell_type": "markdown",
   "metadata": {},
   "source": [
    "- 印出資訊"
   ]
  },
  {
   "cell_type": "code",
   "execution_count": 31,
   "metadata": {},
   "outputs": [
    {
     "name": "stdout",
     "output_type": "stream",
     "text": [
      "Level 30: $711500179 / 59.35%\n",
      "Level 20: $338706418 / 28.25%\n",
      "Level 10: $148620545 / 12.40%\n",
      "Level 30 transfer: 1.65\n",
      "Level 20 transfer: 0.79\n",
      "Level 10 transfer: 0.49\n"
     ]
    }
   ],
   "source": [
    "total_sales = vip_orders_df[\"TotalSalesAmount\"].sum()\n",
    "total_30 = vip_orders_df[\"On_30\"].sum()\n",
    "total_20 = vip_orders_df[\"On_20\"].sum()\n",
    "total_10 = vip_orders_df[\"On_10\"].sum()\n",
    "\n",
    "print(\"Level 30: ${:.0f} / {:.2f}%\".format(total_30, total_30/total_sales*100))\n",
    "print(\"Level 20: ${:.0f} / {:.2f}%\".format(total_20, total_20/total_sales*100))\n",
    "print(\"Level 10: ${:.0f} / {:.2f}%\".format(total_10, total_10/total_sales*100))\n",
    "\n",
    "print(\"Level 30 transfer: {:.2f}\".format(total_30/total_sales*100/35.9))\n",
    "print(\"Level 20 transfer: {:.2f}\".format(total_20/total_sales*100/35.8))\n",
    "print(\"Level 10 transfer: {:.2f}\".format(total_10/total_sales*100/25.3))"
   ]
  },
  {
   "attachments": {},
   "cell_type": "markdown",
   "metadata": {},
   "source": [
    "## 4. 對每筆訂單銷售金額加權計算\n",
    "我們假設:  \n",
    "支付方式的手續費，消費者身分(會員等級)，使用折扣比和購買種類數，  \n",
    "能夠讓我們找到貢獻度最高的支付方式。"
   ]
  },
  {
   "attachments": {},
   "cell_type": "markdown",
   "metadata": {},
   "source": [
    "### 4-1. 參數設定\n",
    "- 設定各支付方式的金流手續費"
   ]
  },
  {
   "cell_type": "code",
   "execution_count": 32,
   "metadata": {},
   "outputs": [],
   "source": [
    "fees = {\n",
    "    'ApplePay': 0.0275,\n",
    "    'LinePay': 0.03,\n",
    "    'CreditCardOnce': 0.0275,\n",
    "    'CreditCardInstallment': 0.035,\n",
    "    'ATM': 0.01,\n",
    "    'Family': -15,  # < 0 表示為逐筆收定額\n",
    "    'SevenEleven': -15,\n",
    "    'GooglePay': 0.0275,\n",
    "    'JKOPay': 0.022,\n",
    "    'Aftee': 0.025,\n",
    "    'Atome': 0.06,\n",
    "    'EasyWallet': 0,\n",
    "    'FreeOfCharge': 0,\n",
    "    'Offline': 0,\n",
    "}"
   ]
  },
  {
   "attachments": {},
   "cell_type": "markdown",
   "metadata": {},
   "source": [
    "- 設定權重"
   ]
  },
  {
   "cell_type": "code",
   "execution_count": 33,
   "metadata": {},
   "outputs": [],
   "source": [
    "weight = {\n",
    "    'Level30': 1.6,\n",
    "    'Level20': 1.2,\n",
    "    'TsCount_threshold': 3.5,   # 設定商品種類閥值\n",
    "    'TsCount_bias': 1.2,        # 超過閥值，才加權\n",
    "    'Discount_bias': 1.2,\n",
    "    'fee_bias': 5,\n",
    "}"
   ]
  },
  {
   "attachments": {},
   "cell_type": "markdown",
   "metadata": {},
   "source": [
    "### 4-2. 計算加權金額\n",
    "- 定義加權算法"
   ]
  },
  {
   "cell_type": "code",
   "execution_count": 34,
   "metadata": {},
   "outputs": [],
   "source": [
    "def calWeightedSales(series, members_df):\n",
    "    # 會員等級\n",
    "    if members_df.loc[series['ShopMemberId']]['MemberCardLevel'] == 30:\n",
    "        level_weight = weight['Level30']\n",
    "    elif members_df.loc[series['ShopMemberId']]['MemberCardLevel'] == 20:\n",
    "        level_weight = weight['Level20']\n",
    "    else:\n",
    "        level_weight = 1.0\n",
    "    \n",
    "    # 金流手續費    \n",
    "    fee = fees.get(series['PaymentType'], None)\n",
    "    if fee != None:\n",
    "        fee_weight = 1 - (fee * weight['fee_bias'])\n",
    "    else:\n",
    "        fee_weight = 1.0\n",
    "    \n",
    "    # 不重複商品種類   \n",
    "    if series['TsCount'] > weight['TsCount_threshold']:\n",
    "        ts_weight = weight['TsCount_bias']\n",
    "    else:\n",
    "        ts_weight = 1.0\n",
    "    \n",
    "    # 折扣比例    \n",
    "    if series['TotalPrice'] != 0:\n",
    "        discount_weight = series['TotalSalesAmount'] / series['TotalPrice'] * weight['Discount_bias']\n",
    "    else:\n",
    "        discount_weight = 0\n",
    "        \n",
    "    return series['TotalSalesAmount'] * level_weight * fee_weight * ts_weight * discount_weight"
   ]
  },
  {
   "attachments": {},
   "cell_type": "markdown",
   "metadata": {},
   "source": [
    "- 計算加權金額"
   ]
  },
  {
   "cell_type": "code",
   "execution_count": 35,
   "metadata": {},
   "outputs": [
    {
     "data": {
      "text/html": [
       "<div>\n",
       "<style scoped>\n",
       "    .dataframe tbody tr th:only-of-type {\n",
       "        vertical-align: middle;\n",
       "    }\n",
       "\n",
       "    .dataframe tbody tr th {\n",
       "        vertical-align: top;\n",
       "    }\n",
       "\n",
       "    .dataframe thead th {\n",
       "        text-align: right;\n",
       "    }\n",
       "</style>\n",
       "<table border=\"1\" class=\"dataframe\">\n",
       "  <thead>\n",
       "    <tr style=\"text-align: right;\">\n",
       "      <th></th>\n",
       "      <th>On_10</th>\n",
       "      <th>On_20</th>\n",
       "      <th>On_30</th>\n",
       "      <th>PaymentType</th>\n",
       "      <th>ShopMemberId</th>\n",
       "      <th>TotalDiscount</th>\n",
       "      <th>TotalPrice</th>\n",
       "      <th>TotalSalesAmount</th>\n",
       "      <th>TsCount</th>\n",
       "      <th>WeightedTotalSales</th>\n",
       "    </tr>\n",
       "  </thead>\n",
       "  <tbody>\n",
       "    <tr>\n",
       "      <th>0</th>\n",
       "      <td>NaN</td>\n",
       "      <td>NaN</td>\n",
       "      <td>5900.0</td>\n",
       "      <td>None</td>\n",
       "      <td>8UznbMg+eOSRlkBLXLS84s2XcK4BWu3L4+aB46m58WI=</td>\n",
       "      <td>0.0</td>\n",
       "      <td>5900.0</td>\n",
       "      <td>5900.0</td>\n",
       "      <td>1</td>\n",
       "      <td>11328.000000</td>\n",
       "    </tr>\n",
       "    <tr>\n",
       "      <th>1</th>\n",
       "      <td>NaN</td>\n",
       "      <td>NaN</td>\n",
       "      <td>5900.0</td>\n",
       "      <td>None</td>\n",
       "      <td>Cl8xkthmsayjNnyDLopM4JnK4ISxfa1K3gn3wac/rY0=</td>\n",
       "      <td>0.0</td>\n",
       "      <td>5900.0</td>\n",
       "      <td>5900.0</td>\n",
       "      <td>1</td>\n",
       "      <td>11328.000000</td>\n",
       "    </tr>\n",
       "    <tr>\n",
       "      <th>2</th>\n",
       "      <td>1900.0</td>\n",
       "      <td>NaN</td>\n",
       "      <td>NaN</td>\n",
       "      <td>None</td>\n",
       "      <td>rxpBkm3xQryMLO9erBk/ILg0Nr2YwW6m1cIwaA3zM00=</td>\n",
       "      <td>-2600.0</td>\n",
       "      <td>4500.0</td>\n",
       "      <td>1900.0</td>\n",
       "      <td>1</td>\n",
       "      <td>962.666667</td>\n",
       "    </tr>\n",
       "    <tr>\n",
       "      <th>3</th>\n",
       "      <td>6500.0</td>\n",
       "      <td>NaN</td>\n",
       "      <td>NaN</td>\n",
       "      <td>None</td>\n",
       "      <td>Tklm188Ah5+43gId8WMWUzkm7Q8qmi7tvH813V3NL+M=</td>\n",
       "      <td>0.0</td>\n",
       "      <td>6500.0</td>\n",
       "      <td>6500.0</td>\n",
       "      <td>1</td>\n",
       "      <td>7800.000000</td>\n",
       "    </tr>\n",
       "    <tr>\n",
       "      <th>4</th>\n",
       "      <td>NaN</td>\n",
       "      <td>NaN</td>\n",
       "      <td>1050.0</td>\n",
       "      <td>None</td>\n",
       "      <td>SREGrQPQz2SwWBj1UfEsh3TVGI3Rc6sHIYDDUqnOkj4=</td>\n",
       "      <td>-450.0</td>\n",
       "      <td>1500.0</td>\n",
       "      <td>1050.0</td>\n",
       "      <td>1</td>\n",
       "      <td>1411.200000</td>\n",
       "    </tr>\n",
       "  </tbody>\n",
       "</table>\n",
       "</div>"
      ],
      "text/plain": [
       "    On_10  On_20   On_30 PaymentType   \n",
       "0     NaN    NaN  5900.0        None  \\\n",
       "1     NaN    NaN  5900.0        None   \n",
       "2  1900.0    NaN     NaN        None   \n",
       "3  6500.0    NaN     NaN        None   \n",
       "4     NaN    NaN  1050.0        None   \n",
       "\n",
       "                                   ShopMemberId  TotalDiscount  TotalPrice   \n",
       "0  8UznbMg+eOSRlkBLXLS84s2XcK4BWu3L4+aB46m58WI=            0.0      5900.0  \\\n",
       "1  Cl8xkthmsayjNnyDLopM4JnK4ISxfa1K3gn3wac/rY0=            0.0      5900.0   \n",
       "2  rxpBkm3xQryMLO9erBk/ILg0Nr2YwW6m1cIwaA3zM00=        -2600.0      4500.0   \n",
       "3  Tklm188Ah5+43gId8WMWUzkm7Q8qmi7tvH813V3NL+M=            0.0      6500.0   \n",
       "4  SREGrQPQz2SwWBj1UfEsh3TVGI3Rc6sHIYDDUqnOkj4=         -450.0      1500.0   \n",
       "\n",
       "   TotalSalesAmount  TsCount  WeightedTotalSales  \n",
       "0            5900.0        1        11328.000000  \n",
       "1            5900.0        1        11328.000000  \n",
       "2            1900.0        1          962.666667  \n",
       "3            6500.0        1         7800.000000  \n",
       "4            1050.0        1         1411.200000  "
      ]
     },
     "execution_count": 35,
     "metadata": {},
     "output_type": "execute_result"
    }
   ],
   "source": [
    "vip_orders_df['WeightedTotalSales'] = vip_orders_df.apply(lambda x: calWeightedSales(x,vip_df), axis=1)\n",
    "vip_orders_df.head()"
   ]
  },
  {
   "attachments": {},
   "cell_type": "markdown",
   "metadata": {},
   "source": [
    "- 支付方式排名"
   ]
  },
  {
   "cell_type": "code",
   "execution_count": 36,
   "metadata": {},
   "outputs": [
    {
     "name": "stdout",
     "output_type": "stream",
     "text": [
      "                       TotalSalesAmount  WeightedTotalSales\n",
      "PaymentType                                                \n",
      "NaN                         5514.127028         7291.344682\n",
      "CreditCardInstallment       3469.132255         4519.657663\n",
      "Atome                       3628.721154         4259.945210\n",
      "GooglePay                   2936.369565         4234.192557\n",
      "ATM                         2772.001262         4124.744210\n",
      "Aftee                       2997.472689         4007.423753\n",
      "EasyWallet                  2440.827506         3651.278806\n",
      "CreditCardOnce              2653.797856         3509.213315\n",
      "JKOPay                      2640.372603         3508.885318\n",
      "ApplePay                    2602.545105         3467.968441\n",
      "LinePay                     2589.094172         3342.380334\n",
      "FreeOfCharge                   0.000000            0.000000\n",
      "                       TotalSalesAmount  WeightedTotalSales\n",
      "PaymentType                                                \n",
      "NaN                         5514.127028         7291.344682\n",
      "Atome                       3628.721154         4259.945210\n",
      "CreditCardInstallment       3469.132255         4519.657663\n",
      "Aftee                       2997.472689         4007.423753\n",
      "GooglePay                   2936.369565         4234.192557\n",
      "ATM                         2772.001262         4124.744210\n",
      "CreditCardOnce              2653.797856         3509.213315\n",
      "JKOPay                      2640.372603         3508.885318\n",
      "ApplePay                    2602.545105         3467.968441\n",
      "LinePay                     2589.094172         3342.380334\n",
      "EasyWallet                  2440.827506         3651.278806\n",
      "FreeOfCharge                   0.000000            0.000000\n"
     ]
    }
   ],
   "source": [
    "# 去除多餘欄位\n",
    "test_df = vip_orders_df.drop(columns=['On_10', 'On_20', 'On_30', 'TotalDiscount', 'TotalPrice', 'ShopMemberId', 'TsCount'])\n",
    "# 分群\n",
    "test = test_df.groupby(by=['PaymentType'], dropna=False).mean()\n",
    "print(test.sort_values(by=['WeightedTotalSales'], ascending=False))\n",
    "print(test.sort_values(by=['TotalSalesAmount'], ascending=False))"
   ]
  },
  {
   "attachments": {},
   "cell_type": "markdown",
   "metadata": {},
   "source": [
    "### 4-3. 計算全體加權金額\n",
    "- 取得所有訂單資訊和會員資訊"
   ]
  },
  {
   "cell_type": "code",
   "execution_count": 37,
   "metadata": {},
   "outputs": [
    {
     "name": "stderr",
     "output_type": "stream",
     "text": [
      "C:\\Users\\eeb02\\AppData\\Local\\Temp\\ipykernel_17804\\118511248.py:2: UserWarning: pandas only supports SQLAlchemy connectable (engine/connection) or database string URI or sqlite3 DBAPI2 connection. Other DBAPI2 objects are not tested. Please consider using SQLAlchemy.\n",
      "  all_orders_df = pd.read_sql_query('select \"ShopMemberId\", \"TotalSalesAmount\", \"TotalPrice\", \"TotalDiscount\", \"PaymentType\", \"TsCount\" from \"Order\" \\\n",
      "C:\\Users\\eeb02\\AppData\\Local\\Temp\\ipykernel_17804\\118511248.py:5: UserWarning: pandas only supports SQLAlchemy connectable (engine/connection) or database string URI or sqlite3 DBAPI2 connection. Other DBAPI2 objects are not tested. Please consider using SQLAlchemy.\n",
      "  all_users_df = pd.read_sql_query('select \"ShopMemberId\", \"Gender\", \"Birthday\", \"MemberCardLevel\", \"CountryAliasCode\" from \"Member\" \\\n"
     ]
    }
   ],
   "source": [
    "# 使用sql語句取出\n",
    "all_orders_df = pd.read_sql_query('select \"ShopMemberId\", \"TotalSalesAmount\", \"TotalPrice\", \"TotalDiscount\", \"PaymentType\", \"TsCount\" from \"Order\" \\\n",
    "    where \"OrderDateTime\" >= %s and \"OrderDateTime\" < %s', conn, params=('2021-1-1', '2023-1-1'))\n",
    "\n",
    "all_users_df = pd.read_sql_query('select \"ShopMemberId\", \"Gender\", \"Birthday\", \"MemberCardLevel\", \"CountryAliasCode\" from \"Member\" \\\n",
    "        where \"Member\".\"RegisterDateTime\"<%s', conn, index_col='ShopMemberId', params=('2023-1-1',))"
   ]
  },
  {
   "attachments": {},
   "cell_type": "markdown",
   "metadata": {},
   "source": [
    "- 計算全體訂單的加權金額\n",
    "- 支付方式排名"
   ]
  },
  {
   "cell_type": "code",
   "execution_count": 38,
   "metadata": {},
   "outputs": [
    {
     "name": "stdout",
     "output_type": "stream",
     "text": [
      "                       TotalSalesAmount  WeightedTotalSales\n",
      "PaymentType                                                \n",
      "NaN                         4723.324560         5577.111512\n",
      "CreditCardInstallment       3088.132057         3580.665866\n",
      "GooglePay                   2768.082569         3403.619736\n",
      "Aftee                       2867.464485         3370.940432\n",
      "Atome                       3373.779412         3355.318921\n",
      "ATM                         2566.678690         3333.536806\n",
      "EasyWallet                  2371.844781         3049.685195\n",
      "ApplePay                    2385.869179         2861.672170\n",
      "CreditCardOnce              2402.153829         2795.102340\n",
      "JKOPay                      2376.194710         2758.355993\n",
      "LinePay                     2373.130330         2673.679214\n",
      "FreeOfCharge                   0.000000            0.000000\n",
      "                       TotalSalesAmount  WeightedTotalSales\n",
      "PaymentType                                                \n",
      "NaN                         4723.324560         5577.111512\n",
      "Atome                       3373.779412         3355.318921\n",
      "CreditCardInstallment       3088.132057         3580.665866\n",
      "Aftee                       2867.464485         3370.940432\n",
      "GooglePay                   2768.082569         3403.619736\n",
      "ATM                         2566.678690         3333.536806\n",
      "CreditCardOnce              2402.153829         2795.102340\n",
      "ApplePay                    2385.869179         2861.672170\n",
      "JKOPay                      2376.194710         2758.355993\n",
      "LinePay                     2373.130330         2673.679214\n",
      "EasyWallet                  2371.844781         3049.685195\n",
      "FreeOfCharge                   0.000000            0.000000\n"
     ]
    }
   ],
   "source": [
    "all_orders_df['WeightedTotalSales'] = all_orders_df.apply(lambda x: calWeightedSales(x, all_users_df), axis=1)\n",
    "test2_df = all_orders_df.drop(columns=['TotalDiscount', 'TotalPrice', 'ShopMemberId', 'TsCount'])\n",
    "test2 = test2_df.groupby(by=['PaymentType'], dropna=False).mean()\n",
    "print(test2.sort_values(by=['WeightedTotalSales'], ascending=False))\n",
    "print(test2.sort_values(by=['TotalSalesAmount'], ascending=False))"
   ]
  },
  {
   "attachments": {},
   "cell_type": "markdown",
   "metadata": {},
   "source": [
    "### 4-4. 正規化並計算相似度\n",
    "將高貢獻和全體的支付方式排名向量化，求相似度"
   ]
  },
  {
   "cell_type": "code",
   "execution_count": 39,
   "metadata": {},
   "outputs": [
    {
     "name": "stdout",
     "output_type": "stream",
     "text": [
      "[0.51062579 0.31651964 0.29833151 0.29652801 0.28886315 0.28064699\n",
      " 0.25570553 0.24575643 0.24573346 0.24286798 0.23407282 0.        ]\n",
      "[0.4904611  0.31489012 0.29932037 0.29644649 0.29507271 0.29315715\n",
      " 0.26819474 0.25166054 0.24580627 0.24257473 0.2351281  0.        ]\n",
      "相似度:  [0.99960132]\n"
     ]
    }
   ],
   "source": [
    "vip_vec = (test.sort_values(by=['WeightedTotalSales'], ascending=False))['WeightedTotalSales'].to_numpy()\n",
    "all_vec = (test2.sort_values(by=['WeightedTotalSales'], ascending=False))['WeightedTotalSales'].to_numpy()\n",
    "\n",
    "vip_vec_norm = vip_vec / np.linalg.norm(vip_vec)\n",
    "all_vec_norm = all_vec / np.linalg.norm(all_vec)\n",
    "print(vip_vec_norm)\n",
    "print(all_vec_norm)\n",
    "print('相似度: ', cosine_similarity(vip_vec_norm.reshape(1,12), all_vec_norm.reshape(1,12))[0])"
   ]
  },
  {
   "attachments": {},
   "cell_type": "markdown",
   "metadata": {},
   "source": [
    "## 關閉SQL連線"
   ]
  },
  {
   "cell_type": "code",
   "execution_count": 40,
   "metadata": {},
   "outputs": [],
   "source": [
    "cursor.close()\n",
    "conn.close()"
   ]
  },
  {
   "attachments": {},
   "cell_type": "markdown",
   "metadata": {},
   "source": [
    "## 5. 支付方式的影響 (假設應用情境)\n",
    "基於上面的結果，我們得出\"Atome\", \"信用卡分期\"的支付方式是潛在有高貢獻的支付方式。  \n",
    "我們假設:  \n",
    "在2022年末，業主使用本模型後，想要降低金流手續費，  \n",
    "剛好91app有跟Aftee合作，希望能轉移分期的需求至該支付方式，預計轉移25%。  \n",
    "  \n",
    "使用至今都未窺看過的2023年後資料帶入。  \n",
    "實驗如果成功轉移25%的分期需求，可為業主增加多少收入。\n"
   ]
  },
  {
   "attachments": {},
   "cell_type": "markdown",
   "metadata": {},
   "source": [
    "- 取出2023年後訂單資訊"
   ]
  },
  {
   "cell_type": "code",
   "execution_count": 6,
   "metadata": {},
   "outputs": [
    {
     "name": "stderr",
     "output_type": "stream",
     "text": [
      "C:\\Users\\eeb02\\AppData\\Local\\Temp\\ipykernel_29088\\1377232739.py:2: UserWarning: pandas only supports SQLAlchemy connectable (engine/connection) or database string URI or sqlite3 DBAPI2 connection. Other DBAPI2 objects are not tested. Please consider using SQLAlchemy.\n",
      "  new_orders_df = pd.read_sql_query('select \"TotalSalesAmount\", \"PaymentType\" from \"Order\" where \"OrderDateTime\" >= %s', conn, params=('2023-1-1',))\n"
     ]
    }
   ],
   "source": [
    "conn, cursor = sql_conn()\n",
    "new_orders_df = pd.read_sql_query('select \"TotalSalesAmount\", \"PaymentType\" from \"Order\" where \"OrderDateTime\" >= %s', conn, params=('2023-1-1',))"
   ]
  },
  {
   "attachments": {},
   "cell_type": "markdown",
   "metadata": {},
   "source": [
    "- 假設成功轉移25%"
   ]
  },
  {
   "cell_type": "code",
   "execution_count": 7,
   "metadata": {},
   "outputs": [],
   "source": [
    "transfer_ratio = 0.25"
   ]
  },
  {
   "attachments": {},
   "cell_type": "markdown",
   "metadata": {},
   "source": [
    "- 設定金流手續費"
   ]
  },
  {
   "cell_type": "code",
   "execution_count": 8,
   "metadata": {},
   "outputs": [],
   "source": [
    "fees = {\n",
    "    'CreditCardInstallment': 0.035,\n",
    "    'Aftee': 0.025,\n",
    "    'Atome': 0.06,\n",
    "}"
   ]
  },
  {
   "attachments": {},
   "cell_type": "markdown",
   "metadata": {},
   "source": [
    "- 計算\"刷卡分期\"和\"Atome\"的訂單總金額"
   ]
  },
  {
   "cell_type": "code",
   "execution_count": 9,
   "metadata": {},
   "outputs": [
    {
     "name": "stdout",
     "output_type": "stream",
     "text": [
      "                       TotalSalesAmount\n",
      "PaymentType                            \n",
      "ATM                           3558541.0\n",
      "Aftee                         2215205.0\n",
      "ApplePay                      3045113.0\n",
      "CreditCardInstallment        13769350.0\n",
      "CreditCardOnce               17228643.0\n",
      "EasyWallet                     730813.0\n",
      "GooglePay                       84270.0\n",
      "JKOPay                        1636980.0\n",
      "LinePay                       8155681.0\n"
     ]
    }
   ],
   "source": [
    "tmp_df = new_orders_df.groupby('PaymentType').sum()\n",
    "print(tmp_df)"
   ]
  },
  {
   "attachments": {},
   "cell_type": "markdown",
   "metadata": {},
   "source": [
    "- 意外發現在2023年無\"Atome\"訂單"
   ]
  },
  {
   "cell_type": "code",
   "execution_count": 10,
   "metadata": {},
   "outputs": [
    {
     "name": "stdout",
     "output_type": "stream",
     "text": [
      "刷卡分期訂單金額: $ 13769350\n",
      "Atome訂單金額: $ 0\n"
     ]
    }
   ],
   "source": [
    "try:\n",
    "    cci_total = tmp_df.loc['CreditCardInstallment']['TotalSalesAmount']\n",
    "except:\n",
    "    cci_total = 0\n",
    "    \n",
    "try:    \n",
    "    atome_total = tmp_df.loc['Atome']['TotalSalesAmount']\n",
    "except:\n",
    "    atome_total = 0\n",
    "    \n",
    "print(\"刷卡分期訂單金額: $\", int(cci_total))\n",
    "print(\"Atome訂單金額: $\", atome_total)"
   ]
  },
  {
   "attachments": {},
   "cell_type": "markdown",
   "metadata": {},
   "source": [
    "- 計算毛利增減"
   ]
  },
  {
   "cell_type": "code",
   "execution_count": 11,
   "metadata": {},
   "outputs": [
    {
     "name": "stdout",
     "output_type": "stream",
     "text": [
      "期間營業額增減: $34423.4\n"
     ]
    }
   ],
   "source": [
    "revenue = (cci_total * (fees['CreditCardInstallment'] - fees['Aftee']) * transfer_ratio) + (atome_total * (fees['Atome'] - fees['Aftee']) * transfer_ratio)\n",
    "print('期間營業額增減: ${:.1f}'.format(revenue))"
   ]
  },
  {
   "attachments": {},
   "cell_type": "markdown",
   "metadata": {},
   "source": [
    "- 關閉連線"
   ]
  },
  {
   "cell_type": "code",
   "execution_count": 12,
   "metadata": {},
   "outputs": [],
   "source": [
    "cursor.close()\n",
    "conn.close()"
   ]
  }
 ],
 "metadata": {
  "kernelspec": {
   "display_name": "final-fG7mChhK",
   "language": "python",
   "name": "python3"
  },
  "language_info": {
   "codemirror_mode": {
    "name": "ipython",
    "version": 3
   },
   "file_extension": ".py",
   "mimetype": "text/x-python",
   "name": "python",
   "nbconvert_exporter": "python",
   "pygments_lexer": "ipython3",
   "version": "3.10.10"
  },
  "orig_nbformat": 4
 },
 "nbformat": 4,
 "nbformat_minor": 2
}
